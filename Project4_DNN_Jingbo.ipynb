{
  "cells": [
    {
      "cell_type": "markdown",
      "metadata": {
        "id": "P6brgBRYjTZ7"
      },
      "source": [
        "## Preprocessing"
      ]
    },
    {
      "cell_type": "code",
      "execution_count": 1,
      "metadata": {
        "colab": {
          "base_uri": "https://localhost:8080/",
          "height": 522
        },
        "id": "ul2CEDYhjTaA",
        "outputId": "c68ca1fc-cb11-4c78-dfd6-6590e0bdfa3b"
      },
      "outputs": [
        {
          "output_type": "execute_result",
          "data": {
            "text/plain": [
              "      TIC ID     TOI Previous CTOI  Master  SG1A  SG1B  SG2  SG3  SG4  SG5  \\\n",
              "0  231663901  101.01           NaN       5     5     5    5    5    5    5   \n",
              "1  149603524  102.01           NaN       5     5     5    5    5    5    5   \n",
              "2  336732616  103.01           NaN       5     5     5    5    5    5    5   \n",
              "3  231670397  104.01           NaN       5     5     5    5    5    5    5   \n",
              "4  144065872  105.01           NaN       5     5     5    5    5    5    5   \n",
              "\n",
              "   ...  Stellar Radius (R_Sun) err  Stellar Metallicity  \\\n",
              "0  ...                    0.043847                  NaN   \n",
              "1  ...                    0.050000                 0.24   \n",
              "2  ...                         NaN                  NaN   \n",
              "3  ...                    0.102573                  NaN   \n",
              "4  ...                    0.059699                  NaN   \n",
              "\n",
              "   Stellar Metallicity err  Stellar Mass (M_Sun)  Stellar Mass (M_Sun) err  \\\n",
              "0                      NaN                  1.05                  0.129454   \n",
              "1                     0.05                  1.28                  0.190812   \n",
              "2                      NaN                  1.27                  0.196969   \n",
              "3                      NaN                  1.16                  0.166129   \n",
              "4                      NaN                  1.03                  0.127209   \n",
              "\n",
              "                                             Sectors Date TOI Alerted (UTC)  \\\n",
              "0                                               1,27             2018-09-05   \n",
              "1  1,2,3,4,6,7,8,9,10,11,12,13,27,28,29,30,31,32,...             2019-05-07   \n",
              "2                                                  1             2018-09-05   \n",
              "3                                               1,27             2018-09-05   \n",
              "4                                               1,28             2018-09-05   \n",
              "\n",
              "  Date TOI Updated (UTC)        Date Modified  \\\n",
              "0             2021-10-07  2022-12-14 12:09:24   \n",
              "1             2023-04-04  2023-04-07 12:13:06   \n",
              "2             2020-10-27  2022-12-14 12:09:24   \n",
              "3             2021-12-01  2022-12-14 12:09:24   \n",
              "4             2021-12-08  2022-12-14 12:09:24   \n",
              "\n",
              "                                Comments  \n",
              "0                              WASP-46 b  \n",
              "1                              WASP 62 b  \n",
              "2                               HATS-3 b  \n",
              "3                              WASP-73 b  \n",
              "4  WASP-95; epoch kept from qlp-s28-tois  \n",
              "\n",
              "[5 rows x 62 columns]"
            ],
            "text/html": [
              "\n",
              "  <div id=\"df-47a9b7c7-c217-4c1b-bf46-158acfa49060\">\n",
              "    <div class=\"colab-df-container\">\n",
              "      <div>\n",
              "<style scoped>\n",
              "    .dataframe tbody tr th:only-of-type {\n",
              "        vertical-align: middle;\n",
              "    }\n",
              "\n",
              "    .dataframe tbody tr th {\n",
              "        vertical-align: top;\n",
              "    }\n",
              "\n",
              "    .dataframe thead th {\n",
              "        text-align: right;\n",
              "    }\n",
              "</style>\n",
              "<table border=\"1\" class=\"dataframe\">\n",
              "  <thead>\n",
              "    <tr style=\"text-align: right;\">\n",
              "      <th></th>\n",
              "      <th>TIC ID</th>\n",
              "      <th>TOI</th>\n",
              "      <th>Previous CTOI</th>\n",
              "      <th>Master</th>\n",
              "      <th>SG1A</th>\n",
              "      <th>SG1B</th>\n",
              "      <th>SG2</th>\n",
              "      <th>SG3</th>\n",
              "      <th>SG4</th>\n",
              "      <th>SG5</th>\n",
              "      <th>...</th>\n",
              "      <th>Stellar Radius (R_Sun) err</th>\n",
              "      <th>Stellar Metallicity</th>\n",
              "      <th>Stellar Metallicity err</th>\n",
              "      <th>Stellar Mass (M_Sun)</th>\n",
              "      <th>Stellar Mass (M_Sun) err</th>\n",
              "      <th>Sectors</th>\n",
              "      <th>Date TOI Alerted (UTC)</th>\n",
              "      <th>Date TOI Updated (UTC)</th>\n",
              "      <th>Date Modified</th>\n",
              "      <th>Comments</th>\n",
              "    </tr>\n",
              "  </thead>\n",
              "  <tbody>\n",
              "    <tr>\n",
              "      <th>0</th>\n",
              "      <td>231663901</td>\n",
              "      <td>101.01</td>\n",
              "      <td>NaN</td>\n",
              "      <td>5</td>\n",
              "      <td>5</td>\n",
              "      <td>5</td>\n",
              "      <td>5</td>\n",
              "      <td>5</td>\n",
              "      <td>5</td>\n",
              "      <td>5</td>\n",
              "      <td>...</td>\n",
              "      <td>0.043847</td>\n",
              "      <td>NaN</td>\n",
              "      <td>NaN</td>\n",
              "      <td>1.05</td>\n",
              "      <td>0.129454</td>\n",
              "      <td>1,27</td>\n",
              "      <td>2018-09-05</td>\n",
              "      <td>2021-10-07</td>\n",
              "      <td>2022-12-14 12:09:24</td>\n",
              "      <td>WASP-46 b</td>\n",
              "    </tr>\n",
              "    <tr>\n",
              "      <th>1</th>\n",
              "      <td>149603524</td>\n",
              "      <td>102.01</td>\n",
              "      <td>NaN</td>\n",
              "      <td>5</td>\n",
              "      <td>5</td>\n",
              "      <td>5</td>\n",
              "      <td>5</td>\n",
              "      <td>5</td>\n",
              "      <td>5</td>\n",
              "      <td>5</td>\n",
              "      <td>...</td>\n",
              "      <td>0.050000</td>\n",
              "      <td>0.24</td>\n",
              "      <td>0.05</td>\n",
              "      <td>1.28</td>\n",
              "      <td>0.190812</td>\n",
              "      <td>1,2,3,4,6,7,8,9,10,11,12,13,27,28,29,30,31,32,...</td>\n",
              "      <td>2019-05-07</td>\n",
              "      <td>2023-04-04</td>\n",
              "      <td>2023-04-07 12:13:06</td>\n",
              "      <td>WASP 62 b</td>\n",
              "    </tr>\n",
              "    <tr>\n",
              "      <th>2</th>\n",
              "      <td>336732616</td>\n",
              "      <td>103.01</td>\n",
              "      <td>NaN</td>\n",
              "      <td>5</td>\n",
              "      <td>5</td>\n",
              "      <td>5</td>\n",
              "      <td>5</td>\n",
              "      <td>5</td>\n",
              "      <td>5</td>\n",
              "      <td>5</td>\n",
              "      <td>...</td>\n",
              "      <td>NaN</td>\n",
              "      <td>NaN</td>\n",
              "      <td>NaN</td>\n",
              "      <td>1.27</td>\n",
              "      <td>0.196969</td>\n",
              "      <td>1</td>\n",
              "      <td>2018-09-05</td>\n",
              "      <td>2020-10-27</td>\n",
              "      <td>2022-12-14 12:09:24</td>\n",
              "      <td>HATS-3 b</td>\n",
              "    </tr>\n",
              "    <tr>\n",
              "      <th>3</th>\n",
              "      <td>231670397</td>\n",
              "      <td>104.01</td>\n",
              "      <td>NaN</td>\n",
              "      <td>5</td>\n",
              "      <td>5</td>\n",
              "      <td>5</td>\n",
              "      <td>5</td>\n",
              "      <td>5</td>\n",
              "      <td>5</td>\n",
              "      <td>5</td>\n",
              "      <td>...</td>\n",
              "      <td>0.102573</td>\n",
              "      <td>NaN</td>\n",
              "      <td>NaN</td>\n",
              "      <td>1.16</td>\n",
              "      <td>0.166129</td>\n",
              "      <td>1,27</td>\n",
              "      <td>2018-09-05</td>\n",
              "      <td>2021-12-01</td>\n",
              "      <td>2022-12-14 12:09:24</td>\n",
              "      <td>WASP-73 b</td>\n",
              "    </tr>\n",
              "    <tr>\n",
              "      <th>4</th>\n",
              "      <td>144065872</td>\n",
              "      <td>105.01</td>\n",
              "      <td>NaN</td>\n",
              "      <td>5</td>\n",
              "      <td>5</td>\n",
              "      <td>5</td>\n",
              "      <td>5</td>\n",
              "      <td>5</td>\n",
              "      <td>5</td>\n",
              "      <td>5</td>\n",
              "      <td>...</td>\n",
              "      <td>0.059699</td>\n",
              "      <td>NaN</td>\n",
              "      <td>NaN</td>\n",
              "      <td>1.03</td>\n",
              "      <td>0.127209</td>\n",
              "      <td>1,28</td>\n",
              "      <td>2018-09-05</td>\n",
              "      <td>2021-12-08</td>\n",
              "      <td>2022-12-14 12:09:24</td>\n",
              "      <td>WASP-95; epoch kept from qlp-s28-tois</td>\n",
              "    </tr>\n",
              "  </tbody>\n",
              "</table>\n",
              "<p>5 rows × 62 columns</p>\n",
              "</div>\n",
              "      <button class=\"colab-df-convert\" onclick=\"convertToInteractive('df-47a9b7c7-c217-4c1b-bf46-158acfa49060')\"\n",
              "              title=\"Convert this dataframe to an interactive table.\"\n",
              "              style=\"display:none;\">\n",
              "        \n",
              "  <svg xmlns=\"http://www.w3.org/2000/svg\" height=\"24px\"viewBox=\"0 0 24 24\"\n",
              "       width=\"24px\">\n",
              "    <path d=\"M0 0h24v24H0V0z\" fill=\"none\"/>\n",
              "    <path d=\"M18.56 5.44l.94 2.06.94-2.06 2.06-.94-2.06-.94-.94-2.06-.94 2.06-2.06.94zm-11 1L8.5 8.5l.94-2.06 2.06-.94-2.06-.94L8.5 2.5l-.94 2.06-2.06.94zm10 10l.94 2.06.94-2.06 2.06-.94-2.06-.94-.94-2.06-.94 2.06-2.06.94z\"/><path d=\"M17.41 7.96l-1.37-1.37c-.4-.4-.92-.59-1.43-.59-.52 0-1.04.2-1.43.59L10.3 9.45l-7.72 7.72c-.78.78-.78 2.05 0 2.83L4 21.41c.39.39.9.59 1.41.59.51 0 1.02-.2 1.41-.59l7.78-7.78 2.81-2.81c.8-.78.8-2.07 0-2.86zM5.41 20L4 18.59l7.72-7.72 1.47 1.35L5.41 20z\"/>\n",
              "  </svg>\n",
              "      </button>\n",
              "      \n",
              "  <style>\n",
              "    .colab-df-container {\n",
              "      display:flex;\n",
              "      flex-wrap:wrap;\n",
              "      gap: 12px;\n",
              "    }\n",
              "\n",
              "    .colab-df-convert {\n",
              "      background-color: #E8F0FE;\n",
              "      border: none;\n",
              "      border-radius: 50%;\n",
              "      cursor: pointer;\n",
              "      display: none;\n",
              "      fill: #1967D2;\n",
              "      height: 32px;\n",
              "      padding: 0 0 0 0;\n",
              "      width: 32px;\n",
              "    }\n",
              "\n",
              "    .colab-df-convert:hover {\n",
              "      background-color: #E2EBFA;\n",
              "      box-shadow: 0px 1px 2px rgba(60, 64, 67, 0.3), 0px 1px 3px 1px rgba(60, 64, 67, 0.15);\n",
              "      fill: #174EA6;\n",
              "    }\n",
              "\n",
              "    [theme=dark] .colab-df-convert {\n",
              "      background-color: #3B4455;\n",
              "      fill: #D2E3FC;\n",
              "    }\n",
              "\n",
              "    [theme=dark] .colab-df-convert:hover {\n",
              "      background-color: #434B5C;\n",
              "      box-shadow: 0px 1px 3px 1px rgba(0, 0, 0, 0.15);\n",
              "      filter: drop-shadow(0px 1px 2px rgba(0, 0, 0, 0.3));\n",
              "      fill: #FFFFFF;\n",
              "    }\n",
              "  </style>\n",
              "\n",
              "      <script>\n",
              "        const buttonEl =\n",
              "          document.querySelector('#df-47a9b7c7-c217-4c1b-bf46-158acfa49060 button.colab-df-convert');\n",
              "        buttonEl.style.display =\n",
              "          google.colab.kernel.accessAllowed ? 'block' : 'none';\n",
              "\n",
              "        async function convertToInteractive(key) {\n",
              "          const element = document.querySelector('#df-47a9b7c7-c217-4c1b-bf46-158acfa49060');\n",
              "          const dataTable =\n",
              "            await google.colab.kernel.invokeFunction('convertToInteractive',\n",
              "                                                     [key], {});\n",
              "          if (!dataTable) return;\n",
              "\n",
              "          const docLinkHtml = 'Like what you see? Visit the ' +\n",
              "            '<a target=\"_blank\" href=https://colab.research.google.com/notebooks/data_table.ipynb>data table notebook</a>'\n",
              "            + ' to learn more about interactive tables.';\n",
              "          element.innerHTML = '';\n",
              "          dataTable['output_type'] = 'display_data';\n",
              "          await google.colab.output.renderOutput(dataTable, element);\n",
              "          const docLink = document.createElement('div');\n",
              "          docLink.innerHTML = docLinkHtml;\n",
              "          element.appendChild(docLink);\n",
              "        }\n",
              "      </script>\n",
              "    </div>\n",
              "  </div>\n",
              "  "
            ]
          },
          "metadata": {},
          "execution_count": 1
        }
      ],
      "source": [
        "# Import our dependencies\n",
        "from sklearn.model_selection import train_test_split\n",
        "from sklearn.preprocessing import StandardScaler\n",
        "import pandas as pd\n",
        "import tensorflow as tf\n",
        "\n",
        "#  Import and read the charity_data.csv.\n",
        "import pandas as pd \n",
        "TessOI_df = pd.read_csv(\"https://exofop.ipac.caltech.edu/tess/download_toi.php?sort=toi&output=csv\")\n",
        "TessOI_df.head()\n"
      ]
    },
    {
      "cell_type": "code",
      "source": [
        "TessOI_df.columns"
      ],
      "metadata": {
        "colab": {
          "base_uri": "https://localhost:8080/"
        },
        "id": "bwXX1w-wF1mI",
        "outputId": "47f5e18e-59c9-4f48-be85-7700857a505a"
      },
      "execution_count": 2,
      "outputs": [
        {
          "output_type": "execute_result",
          "data": {
            "text/plain": [
              "Index(['TIC ID', 'TOI', 'Previous CTOI', 'Master', 'SG1A', 'SG1B', 'SG2',\n",
              "       'SG3', 'SG4', 'SG5', 'ESM', 'TSM', 'Predicted Mass (M_Earth)',\n",
              "       'Time Series Observations', 'Spectroscopy Observations',\n",
              "       'Imaging Observations', 'TESS Disposition', 'TFOPWG Disposition',\n",
              "       'TESS Mag', 'TESS Mag err', 'Planet Name', 'Pipeline Signal ID',\n",
              "       'Source', 'Detection', 'RA', 'Dec', 'PM RA (mas/yr)',\n",
              "       'PM RA err (mas/yr)', 'PM Dec (mas/yr)', 'PM Dec err (mas/yr)',\n",
              "       'Epoch (BJD)', 'Epoch (BJD) err', 'Period (days)', 'Period (days) err',\n",
              "       'Duration (hours)', 'Duration (hours) err', 'Depth (mmag)',\n",
              "       'Depth (mmag) err', 'Depth (ppm)', 'Depth (ppm) err',\n",
              "       'Planet Radius (R_Earth)', 'Planet Radius (R_Earth) err',\n",
              "       'Planet Insolation (Earth Flux)', 'Planet Equil Temp (K)', 'Planet SNR',\n",
              "       'Stellar Distance (pc)', 'Stellar Distance (pc) err',\n",
              "       'Stellar Eff Temp (K)', 'Stellar Eff Temp (K) err',\n",
              "       'Stellar log(g) (cm/s^2)', 'Stellar log(g) (cm/s^2) err',\n",
              "       'Stellar Radius (R_Sun)', 'Stellar Radius (R_Sun) err',\n",
              "       'Stellar Metallicity', 'Stellar Metallicity err',\n",
              "       'Stellar Mass (M_Sun)', 'Stellar Mass (M_Sun) err', 'Sectors',\n",
              "       'Date TOI Alerted (UTC)', 'Date TOI Updated (UTC)', 'Date Modified',\n",
              "       'Comments'],\n",
              "      dtype='object')"
            ]
          },
          "metadata": {},
          "execution_count": 2
        }
      ]
    },
    {
      "cell_type": "code",
      "execution_count": 3,
      "metadata": {
        "id": "fGquqt3SjTaC",
        "colab": {
          "base_uri": "https://localhost:8080/",
          "height": 319
        },
        "outputId": "7f5b7b8c-7049-4fa6-c619-fa5b0ed720e6"
      },
      "outputs": [
        {
          "output_type": "stream",
          "name": "stderr",
          "text": [
            "<ipython-input-3-76540445cf53>:2: FutureWarning: In a future version of pandas all arguments of DataFrame.drop except for the argument 'labels' will be keyword-only.\n",
            "  TessOI_pre_df = TessOI_df.drop(['TIC ID', 'TOI', 'Previous CTOI', 'Master', 'SG1A', 'SG1B', 'SG2',\n"
          ]
        },
        {
          "output_type": "execute_result",
          "data": {
            "text/plain": [
              "  TFOPWG Disposition  TESS Mag           RA           Dec   Epoch (BJD)  \\\n",
              "0                 KP   12.4069  21:14:56.88  -55:52:18.71  2.459037e+06   \n",
              "1                 KP    9.7109  05:48:33.56  -63:59:17.98  2.460011e+06   \n",
              "2                 KP   11.5232   20:49:49.8   -24:25:43.3  2.458327e+06   \n",
              "3                 KP    9.8638  21:19:47.93  -58:08:56.16  2.459039e+06   \n",
              "4                 KP    9.4995  22:29:49.88  -48:00:11.16  2.459085e+06   \n",
              "\n",
              "   Period (days)  Duration (hours)   Depth (ppm)  Planet Radius (R_Earth)  \\\n",
              "0       1.430369          1.643873  19151.216214                13.250493   \n",
              "1       4.411938          3.728000  15219.000000                15.569000   \n",
              "2       3.547854          3.494333  10424.371800                14.581841   \n",
              "3       4.087299          5.586113   3572.171250                13.623773   \n",
              "4       2.184667          2.865280  11708.022855                13.702853   \n",
              "\n",
              "   Planet Insolation (Earth Flux)  Planet Equil Temp (K)  \\\n",
              "0                     1281.241792            1525.905097   \n",
              "1                      782.274000            1473.000000   \n",
              "2                     1212.004376            1504.858953   \n",
              "3                     2242.360540            1755.076738   \n",
              "4                     1362.138143            1549.440980   \n",
              "\n",
              "   Stellar Distance (pc)  Stellar Eff Temp (K)  Stellar log(g) (cm/s^2)  \\\n",
              "0                375.310                5600.0                  4.48851   \n",
              "1                175.631                6280.0                  4.32092   \n",
              "2                411.211                6351.0                  4.22896   \n",
              "3                316.678                6036.0                  3.93359   \n",
              "4                137.544                5630.0                  4.37759   \n",
              "\n",
              "   Stellar Radius (R_Sun)  \n",
              "0                0.890774  \n",
              "1                1.210000  \n",
              "2                1.400000  \n",
              "3                2.218670  \n",
              "4                1.238240  "
            ],
            "text/html": [
              "\n",
              "  <div id=\"df-40e2e01c-35bf-4b37-b310-d1e3f4c90b9b\">\n",
              "    <div class=\"colab-df-container\">\n",
              "      <div>\n",
              "<style scoped>\n",
              "    .dataframe tbody tr th:only-of-type {\n",
              "        vertical-align: middle;\n",
              "    }\n",
              "\n",
              "    .dataframe tbody tr th {\n",
              "        vertical-align: top;\n",
              "    }\n",
              "\n",
              "    .dataframe thead th {\n",
              "        text-align: right;\n",
              "    }\n",
              "</style>\n",
              "<table border=\"1\" class=\"dataframe\">\n",
              "  <thead>\n",
              "    <tr style=\"text-align: right;\">\n",
              "      <th></th>\n",
              "      <th>TFOPWG Disposition</th>\n",
              "      <th>TESS Mag</th>\n",
              "      <th>RA</th>\n",
              "      <th>Dec</th>\n",
              "      <th>Epoch (BJD)</th>\n",
              "      <th>Period (days)</th>\n",
              "      <th>Duration (hours)</th>\n",
              "      <th>Depth (ppm)</th>\n",
              "      <th>Planet Radius (R_Earth)</th>\n",
              "      <th>Planet Insolation (Earth Flux)</th>\n",
              "      <th>Planet Equil Temp (K)</th>\n",
              "      <th>Stellar Distance (pc)</th>\n",
              "      <th>Stellar Eff Temp (K)</th>\n",
              "      <th>Stellar log(g) (cm/s^2)</th>\n",
              "      <th>Stellar Radius (R_Sun)</th>\n",
              "    </tr>\n",
              "  </thead>\n",
              "  <tbody>\n",
              "    <tr>\n",
              "      <th>0</th>\n",
              "      <td>KP</td>\n",
              "      <td>12.4069</td>\n",
              "      <td>21:14:56.88</td>\n",
              "      <td>-55:52:18.71</td>\n",
              "      <td>2.459037e+06</td>\n",
              "      <td>1.430369</td>\n",
              "      <td>1.643873</td>\n",
              "      <td>19151.216214</td>\n",
              "      <td>13.250493</td>\n",
              "      <td>1281.241792</td>\n",
              "      <td>1525.905097</td>\n",
              "      <td>375.310</td>\n",
              "      <td>5600.0</td>\n",
              "      <td>4.48851</td>\n",
              "      <td>0.890774</td>\n",
              "    </tr>\n",
              "    <tr>\n",
              "      <th>1</th>\n",
              "      <td>KP</td>\n",
              "      <td>9.7109</td>\n",
              "      <td>05:48:33.56</td>\n",
              "      <td>-63:59:17.98</td>\n",
              "      <td>2.460011e+06</td>\n",
              "      <td>4.411938</td>\n",
              "      <td>3.728000</td>\n",
              "      <td>15219.000000</td>\n",
              "      <td>15.569000</td>\n",
              "      <td>782.274000</td>\n",
              "      <td>1473.000000</td>\n",
              "      <td>175.631</td>\n",
              "      <td>6280.0</td>\n",
              "      <td>4.32092</td>\n",
              "      <td>1.210000</td>\n",
              "    </tr>\n",
              "    <tr>\n",
              "      <th>2</th>\n",
              "      <td>KP</td>\n",
              "      <td>11.5232</td>\n",
              "      <td>20:49:49.8</td>\n",
              "      <td>-24:25:43.3</td>\n",
              "      <td>2.458327e+06</td>\n",
              "      <td>3.547854</td>\n",
              "      <td>3.494333</td>\n",
              "      <td>10424.371800</td>\n",
              "      <td>14.581841</td>\n",
              "      <td>1212.004376</td>\n",
              "      <td>1504.858953</td>\n",
              "      <td>411.211</td>\n",
              "      <td>6351.0</td>\n",
              "      <td>4.22896</td>\n",
              "      <td>1.400000</td>\n",
              "    </tr>\n",
              "    <tr>\n",
              "      <th>3</th>\n",
              "      <td>KP</td>\n",
              "      <td>9.8638</td>\n",
              "      <td>21:19:47.93</td>\n",
              "      <td>-58:08:56.16</td>\n",
              "      <td>2.459039e+06</td>\n",
              "      <td>4.087299</td>\n",
              "      <td>5.586113</td>\n",
              "      <td>3572.171250</td>\n",
              "      <td>13.623773</td>\n",
              "      <td>2242.360540</td>\n",
              "      <td>1755.076738</td>\n",
              "      <td>316.678</td>\n",
              "      <td>6036.0</td>\n",
              "      <td>3.93359</td>\n",
              "      <td>2.218670</td>\n",
              "    </tr>\n",
              "    <tr>\n",
              "      <th>4</th>\n",
              "      <td>KP</td>\n",
              "      <td>9.4995</td>\n",
              "      <td>22:29:49.88</td>\n",
              "      <td>-48:00:11.16</td>\n",
              "      <td>2.459085e+06</td>\n",
              "      <td>2.184667</td>\n",
              "      <td>2.865280</td>\n",
              "      <td>11708.022855</td>\n",
              "      <td>13.702853</td>\n",
              "      <td>1362.138143</td>\n",
              "      <td>1549.440980</td>\n",
              "      <td>137.544</td>\n",
              "      <td>5630.0</td>\n",
              "      <td>4.37759</td>\n",
              "      <td>1.238240</td>\n",
              "    </tr>\n",
              "  </tbody>\n",
              "</table>\n",
              "</div>\n",
              "      <button class=\"colab-df-convert\" onclick=\"convertToInteractive('df-40e2e01c-35bf-4b37-b310-d1e3f4c90b9b')\"\n",
              "              title=\"Convert this dataframe to an interactive table.\"\n",
              "              style=\"display:none;\">\n",
              "        \n",
              "  <svg xmlns=\"http://www.w3.org/2000/svg\" height=\"24px\"viewBox=\"0 0 24 24\"\n",
              "       width=\"24px\">\n",
              "    <path d=\"M0 0h24v24H0V0z\" fill=\"none\"/>\n",
              "    <path d=\"M18.56 5.44l.94 2.06.94-2.06 2.06-.94-2.06-.94-.94-2.06-.94 2.06-2.06.94zm-11 1L8.5 8.5l.94-2.06 2.06-.94-2.06-.94L8.5 2.5l-.94 2.06-2.06.94zm10 10l.94 2.06.94-2.06 2.06-.94-2.06-.94-.94-2.06-.94 2.06-2.06.94z\"/><path d=\"M17.41 7.96l-1.37-1.37c-.4-.4-.92-.59-1.43-.59-.52 0-1.04.2-1.43.59L10.3 9.45l-7.72 7.72c-.78.78-.78 2.05 0 2.83L4 21.41c.39.39.9.59 1.41.59.51 0 1.02-.2 1.41-.59l7.78-7.78 2.81-2.81c.8-.78.8-2.07 0-2.86zM5.41 20L4 18.59l7.72-7.72 1.47 1.35L5.41 20z\"/>\n",
              "  </svg>\n",
              "      </button>\n",
              "      \n",
              "  <style>\n",
              "    .colab-df-container {\n",
              "      display:flex;\n",
              "      flex-wrap:wrap;\n",
              "      gap: 12px;\n",
              "    }\n",
              "\n",
              "    .colab-df-convert {\n",
              "      background-color: #E8F0FE;\n",
              "      border: none;\n",
              "      border-radius: 50%;\n",
              "      cursor: pointer;\n",
              "      display: none;\n",
              "      fill: #1967D2;\n",
              "      height: 32px;\n",
              "      padding: 0 0 0 0;\n",
              "      width: 32px;\n",
              "    }\n",
              "\n",
              "    .colab-df-convert:hover {\n",
              "      background-color: #E2EBFA;\n",
              "      box-shadow: 0px 1px 2px rgba(60, 64, 67, 0.3), 0px 1px 3px 1px rgba(60, 64, 67, 0.15);\n",
              "      fill: #174EA6;\n",
              "    }\n",
              "\n",
              "    [theme=dark] .colab-df-convert {\n",
              "      background-color: #3B4455;\n",
              "      fill: #D2E3FC;\n",
              "    }\n",
              "\n",
              "    [theme=dark] .colab-df-convert:hover {\n",
              "      background-color: #434B5C;\n",
              "      box-shadow: 0px 1px 3px 1px rgba(0, 0, 0, 0.15);\n",
              "      filter: drop-shadow(0px 1px 2px rgba(0, 0, 0, 0.3));\n",
              "      fill: #FFFFFF;\n",
              "    }\n",
              "  </style>\n",
              "\n",
              "      <script>\n",
              "        const buttonEl =\n",
              "          document.querySelector('#df-40e2e01c-35bf-4b37-b310-d1e3f4c90b9b button.colab-df-convert');\n",
              "        buttonEl.style.display =\n",
              "          google.colab.kernel.accessAllowed ? 'block' : 'none';\n",
              "\n",
              "        async function convertToInteractive(key) {\n",
              "          const element = document.querySelector('#df-40e2e01c-35bf-4b37-b310-d1e3f4c90b9b');\n",
              "          const dataTable =\n",
              "            await google.colab.kernel.invokeFunction('convertToInteractive',\n",
              "                                                     [key], {});\n",
              "          if (!dataTable) return;\n",
              "\n",
              "          const docLinkHtml = 'Like what you see? Visit the ' +\n",
              "            '<a target=\"_blank\" href=https://colab.research.google.com/notebooks/data_table.ipynb>data table notebook</a>'\n",
              "            + ' to learn more about interactive tables.';\n",
              "          element.innerHTML = '';\n",
              "          dataTable['output_type'] = 'display_data';\n",
              "          await google.colab.output.renderOutput(dataTable, element);\n",
              "          const docLink = document.createElement('div');\n",
              "          docLink.innerHTML = docLinkHtml;\n",
              "          element.appendChild(docLink);\n",
              "        }\n",
              "      </script>\n",
              "    </div>\n",
              "  </div>\n",
              "  "
            ]
          },
          "metadata": {},
          "execution_count": 3
        }
      ],
      "source": [
        "# Drop the non-beneficial ID columns\n",
        "TessOI_pre_df = TessOI_df.drop(['TIC ID', 'TOI', 'Previous CTOI', 'Master', 'SG1A', 'SG1B', 'SG2',\n",
        "       'SG3', 'SG4', 'SG5', 'ESM', 'TSM', 'Predicted Mass (M_Earth)',\n",
        "       'Time Series Observations', 'Spectroscopy Observations',\n",
        "       'Imaging Observations','TESS Disposition',\n",
        "       'TESS Mag err', 'Planet Name', 'Pipeline Signal ID',\n",
        "       'Source', 'Detection','PM RA (mas/yr)','PM Dec (mas/yr)',\n",
        "       'PM RA err (mas/yr)', 'PM Dec err (mas/yr)', 'Epoch (BJD) err', 'Period (days) err',\n",
        "       'Duration (hours) err', 'Depth (mmag)',\n",
        "       'Depth (mmag) err', 'Depth (ppm) err',\n",
        "       'Planet Radius (R_Earth) err',\n",
        "       'Planet SNR',\n",
        "       'Stellar Distance (pc) err',\n",
        "       'Stellar Eff Temp (K) err',\n",
        "       'Stellar log(g) (cm/s^2) err',\n",
        "       'Stellar Radius (R_Sun) err',\n",
        "       'Stellar Metallicity', 'Stellar Metallicity err',\n",
        "       'Stellar Mass (M_Sun)', 'Stellar Mass (M_Sun) err', 'Sectors',\n",
        "       'Date TOI Alerted (UTC)', 'Date TOI Updated (UTC)', 'Date Modified',\n",
        "       'Comments'],1)\n",
        "TessOI_pre_df.head()\n"
      ]
    },
    {
      "cell_type": "code",
      "execution_count": 4,
      "metadata": {
        "id": "DiL89mMgjTaD",
        "outputId": "340da7ca-654d-4589-d731-d0796f04eb84",
        "colab": {
          "base_uri": "https://localhost:8080/"
        }
      },
      "outputs": [
        {
          "output_type": "execute_result",
          "data": {
            "text/plain": [
              "PC     4343\n",
              "FP      923\n",
              "KP      512\n",
              "APC     385\n",
              "CP      342\n",
              "FA       80\n",
              "Name: TFOPWG Disposition, dtype: int64"
            ]
          },
          "metadata": {},
          "execution_count": 4
        }
      ],
      "source": [
        "# Look at 'TESS Disposition' value counts\n",
        "TessOI_pre_df[\"TFOPWG Disposition\"].value_counts()\n"
      ]
    },
    {
      "cell_type": "code",
      "source": [
        "TessOI_TnF_df = TessOI_pre_df.drop(TessOI_pre_df.loc[(TessOI_pre_df[\"TFOPWG Disposition\"] == \"APC\")|(TessOI_pre_df[\"TFOPWG Disposition\"] == \"PC\")].index)\n"
      ],
      "metadata": {
        "id": "1ojANeJhQFcI"
      },
      "execution_count": 5,
      "outputs": []
    },
    {
      "cell_type": "code",
      "source": [
        "TessOI_TnF_df[\"TFOPWG Disposition\"].value_counts()\n"
      ],
      "metadata": {
        "colab": {
          "base_uri": "https://localhost:8080/"
        },
        "id": "4t6yFtv0SDOw",
        "outputId": "39d549e2-cd38-4325-9a33-0ab3cb1294bd"
      },
      "execution_count": 6,
      "outputs": [
        {
          "output_type": "execute_result",
          "data": {
            "text/plain": [
              "FP    923\n",
              "KP    512\n",
              "CP    342\n",
              "FA     80\n",
              "Name: TFOPWG Disposition, dtype: int64"
            ]
          },
          "metadata": {},
          "execution_count": 6
        }
      ]
    },
    {
      "cell_type": "code",
      "execution_count": 7,
      "metadata": {
        "id": "Ys_XcX-JjTaD",
        "outputId": "a05a4a53-22b9-44f8-a240-d79e9a2a122e",
        "colab": {
          "base_uri": "https://localhost:8080/"
        }
      },
      "outputs": [
        {
          "output_type": "execute_result",
          "data": {
            "text/plain": [
              "0.0    1003\n",
              "1.0     854\n",
              "Name: TFOPWG Disposition, dtype: int64"
            ]
          },
          "metadata": {},
          "execution_count": 7
        }
      ],
      "source": [
        "# Choose a cutoff value and create a list of application types to be replaced\n",
        "# use the variable name `application_types_to_replace`\n",
        "false_types_to_replace = [\"FP\",\"FA\"]\n",
        "true_types_to_replace = [\"KP\",\"CP\"]\n",
        "# Replace in dataframe\n",
        "for app in false_types_to_replace:\n",
        "    TessOI_TnF_df[\"TFOPWG Disposition\"] = TessOI_TnF_df[\"TFOPWG Disposition\"].replace(app,0)\n",
        "\n",
        "for app in true_types_to_replace:\n",
        "    TessOI_TnF_df[\"TFOPWG Disposition\"] = TessOI_TnF_df[\"TFOPWG Disposition\"].replace(app,1)\n",
        "# Check to make sure binning was successful\n",
        "TessOI_TnF_df[\"TFOPWG Disposition\"].value_counts()\n"
      ]
    },
    {
      "cell_type": "code",
      "source": [
        "TessOI_TnF_df.count()"
      ],
      "metadata": {
        "colab": {
          "base_uri": "https://localhost:8080/"
        },
        "id": "dhmR8L5X6bRb",
        "outputId": "1ba682b8-b2ba-4061-c87c-62901abb40ce"
      },
      "execution_count": 8,
      "outputs": [
        {
          "output_type": "execute_result",
          "data": {
            "text/plain": [
              "TFOPWG Disposition                1857\n",
              "TESS Mag                          1871\n",
              "RA                                1871\n",
              "Dec                               1871\n",
              "Epoch (BJD)                       1871\n",
              "Period (days)                     1871\n",
              "Duration (hours)                  1871\n",
              "Depth (ppm)                       1871\n",
              "Planet Radius (R_Earth)           1758\n",
              "Planet Insolation (Earth Flux)    1808\n",
              "Planet Equil Temp (K)             1783\n",
              "Stellar Distance (pc)             1830\n",
              "Stellar Eff Temp (K)              1833\n",
              "Stellar log(g) (cm/s^2)           1679\n",
              "Stellar Radius (R_Sun)            1758\n",
              "dtype: int64"
            ]
          },
          "metadata": {},
          "execution_count": 8
        }
      ]
    },
    {
      "cell_type": "code",
      "execution_count": 9,
      "metadata": {
        "id": "tbL9p2AWjTaF"
      },
      "outputs": [],
      "source": [
        "# \n",
        "\n",
        "TessOI_TnF_df = TessOI_TnF_df.dropna()\n"
      ]
    },
    {
      "cell_type": "code",
      "source": [
        "TessOI_TnF_df.count()"
      ],
      "metadata": {
        "colab": {
          "base_uri": "https://localhost:8080/"
        },
        "id": "ADA8DaU5B3k0",
        "outputId": "4c795256-67bf-4ea1-d908-a40d3a7e1350"
      },
      "execution_count": 10,
      "outputs": [
        {
          "output_type": "execute_result",
          "data": {
            "text/plain": [
              "TFOPWG Disposition                1603\n",
              "TESS Mag                          1603\n",
              "RA                                1603\n",
              "Dec                               1603\n",
              "Epoch (BJD)                       1603\n",
              "Period (days)                     1603\n",
              "Duration (hours)                  1603\n",
              "Depth (ppm)                       1603\n",
              "Planet Radius (R_Earth)           1603\n",
              "Planet Insolation (Earth Flux)    1603\n",
              "Planet Equil Temp (K)             1603\n",
              "Stellar Distance (pc)             1603\n",
              "Stellar Eff Temp (K)              1603\n",
              "Stellar log(g) (cm/s^2)           1603\n",
              "Stellar Radius (R_Sun)            1603\n",
              "dtype: int64"
            ]
          },
          "metadata": {},
          "execution_count": 10
        }
      ]
    },
    {
      "cell_type": "code",
      "source": [
        "# Convert Celestial Coordinates to Lat and Lon\n",
        "from astropy.coordinates import SkyCoord\n",
        "from astropy import units as u\n",
        "from astropy.coordinates import ICRS, Galactic, FK4, FK5\n",
        "\n",
        "ra1 = TessOI_TnF_df.RA.tolist()\n",
        "dec1 = TessOI_TnF_df.Dec.tolist()\n",
        "c = SkyCoord(ra = ra1,dec = dec1, unit=(u.hourangle, u.deg))\n",
        "\n",
        "TessOI_TnF_df[\"lat\"] = c.dec.degree\n",
        "TessOI_TnF_df[\"lon\"] = c.ra.degree"
      ],
      "metadata": {
        "id": "vskceZ68EoeS"
      },
      "execution_count": 11,
      "outputs": []
    },
    {
      "cell_type": "code",
      "source": [
        "TessOI_TnF_df.head()"
      ],
      "metadata": {
        "colab": {
          "base_uri": "https://localhost:8080/",
          "height": 285
        },
        "id": "T_QOKEFaFlPI",
        "outputId": "2e60ed4d-6a3d-4987-da80-570e39caae97"
      },
      "execution_count": 12,
      "outputs": [
        {
          "output_type": "execute_result",
          "data": {
            "text/plain": [
              "   TFOPWG Disposition  TESS Mag           RA           Dec   Epoch (BJD)  \\\n",
              "0                 1.0   12.4069  21:14:56.88  -55:52:18.71  2.459037e+06   \n",
              "1                 1.0    9.7109  05:48:33.56  -63:59:17.98  2.460011e+06   \n",
              "2                 1.0   11.5232   20:49:49.8   -24:25:43.3  2.458327e+06   \n",
              "3                 1.0    9.8638  21:19:47.93  -58:08:56.16  2.459039e+06   \n",
              "4                 1.0    9.4995  22:29:49.88  -48:00:11.16  2.459085e+06   \n",
              "\n",
              "   Period (days)  Duration (hours)   Depth (ppm)  Planet Radius (R_Earth)  \\\n",
              "0       1.430369          1.643873  19151.216214                13.250493   \n",
              "1       4.411938          3.728000  15219.000000                15.569000   \n",
              "2       3.547854          3.494333  10424.371800                14.581841   \n",
              "3       4.087299          5.586113   3572.171250                13.623773   \n",
              "4       2.184667          2.865280  11708.022855                13.702853   \n",
              "\n",
              "   Planet Insolation (Earth Flux)  Planet Equil Temp (K)  \\\n",
              "0                     1281.241792            1525.905097   \n",
              "1                      782.274000            1473.000000   \n",
              "2                     1212.004376            1504.858953   \n",
              "3                     2242.360540            1755.076738   \n",
              "4                     1362.138143            1549.440980   \n",
              "\n",
              "   Stellar Distance (pc)  Stellar Eff Temp (K)  Stellar log(g) (cm/s^2)  \\\n",
              "0                375.310                5600.0                  4.48851   \n",
              "1                175.631                6280.0                  4.32092   \n",
              "2                411.211                6351.0                  4.22896   \n",
              "3                316.678                6036.0                  3.93359   \n",
              "4                137.544                5630.0                  4.37759   \n",
              "\n",
              "   Stellar Radius (R_Sun)        lat         lon  \n",
              "0                0.890774 -55.871864  318.737000  \n",
              "1                1.210000 -63.988328   87.139833  \n",
              "2                1.400000 -24.428694  312.457500  \n",
              "3                2.218670 -58.148933  319.949708  \n",
              "4                1.238240 -48.003100  337.457833  "
            ],
            "text/html": [
              "\n",
              "  <div id=\"df-1f641f9e-1405-46bd-b618-5a164e01aa0a\">\n",
              "    <div class=\"colab-df-container\">\n",
              "      <div>\n",
              "<style scoped>\n",
              "    .dataframe tbody tr th:only-of-type {\n",
              "        vertical-align: middle;\n",
              "    }\n",
              "\n",
              "    .dataframe tbody tr th {\n",
              "        vertical-align: top;\n",
              "    }\n",
              "\n",
              "    .dataframe thead th {\n",
              "        text-align: right;\n",
              "    }\n",
              "</style>\n",
              "<table border=\"1\" class=\"dataframe\">\n",
              "  <thead>\n",
              "    <tr style=\"text-align: right;\">\n",
              "      <th></th>\n",
              "      <th>TFOPWG Disposition</th>\n",
              "      <th>TESS Mag</th>\n",
              "      <th>RA</th>\n",
              "      <th>Dec</th>\n",
              "      <th>Epoch (BJD)</th>\n",
              "      <th>Period (days)</th>\n",
              "      <th>Duration (hours)</th>\n",
              "      <th>Depth (ppm)</th>\n",
              "      <th>Planet Radius (R_Earth)</th>\n",
              "      <th>Planet Insolation (Earth Flux)</th>\n",
              "      <th>Planet Equil Temp (K)</th>\n",
              "      <th>Stellar Distance (pc)</th>\n",
              "      <th>Stellar Eff Temp (K)</th>\n",
              "      <th>Stellar log(g) (cm/s^2)</th>\n",
              "      <th>Stellar Radius (R_Sun)</th>\n",
              "      <th>lat</th>\n",
              "      <th>lon</th>\n",
              "    </tr>\n",
              "  </thead>\n",
              "  <tbody>\n",
              "    <tr>\n",
              "      <th>0</th>\n",
              "      <td>1.0</td>\n",
              "      <td>12.4069</td>\n",
              "      <td>21:14:56.88</td>\n",
              "      <td>-55:52:18.71</td>\n",
              "      <td>2.459037e+06</td>\n",
              "      <td>1.430369</td>\n",
              "      <td>1.643873</td>\n",
              "      <td>19151.216214</td>\n",
              "      <td>13.250493</td>\n",
              "      <td>1281.241792</td>\n",
              "      <td>1525.905097</td>\n",
              "      <td>375.310</td>\n",
              "      <td>5600.0</td>\n",
              "      <td>4.48851</td>\n",
              "      <td>0.890774</td>\n",
              "      <td>-55.871864</td>\n",
              "      <td>318.737000</td>\n",
              "    </tr>\n",
              "    <tr>\n",
              "      <th>1</th>\n",
              "      <td>1.0</td>\n",
              "      <td>9.7109</td>\n",
              "      <td>05:48:33.56</td>\n",
              "      <td>-63:59:17.98</td>\n",
              "      <td>2.460011e+06</td>\n",
              "      <td>4.411938</td>\n",
              "      <td>3.728000</td>\n",
              "      <td>15219.000000</td>\n",
              "      <td>15.569000</td>\n",
              "      <td>782.274000</td>\n",
              "      <td>1473.000000</td>\n",
              "      <td>175.631</td>\n",
              "      <td>6280.0</td>\n",
              "      <td>4.32092</td>\n",
              "      <td>1.210000</td>\n",
              "      <td>-63.988328</td>\n",
              "      <td>87.139833</td>\n",
              "    </tr>\n",
              "    <tr>\n",
              "      <th>2</th>\n",
              "      <td>1.0</td>\n",
              "      <td>11.5232</td>\n",
              "      <td>20:49:49.8</td>\n",
              "      <td>-24:25:43.3</td>\n",
              "      <td>2.458327e+06</td>\n",
              "      <td>3.547854</td>\n",
              "      <td>3.494333</td>\n",
              "      <td>10424.371800</td>\n",
              "      <td>14.581841</td>\n",
              "      <td>1212.004376</td>\n",
              "      <td>1504.858953</td>\n",
              "      <td>411.211</td>\n",
              "      <td>6351.0</td>\n",
              "      <td>4.22896</td>\n",
              "      <td>1.400000</td>\n",
              "      <td>-24.428694</td>\n",
              "      <td>312.457500</td>\n",
              "    </tr>\n",
              "    <tr>\n",
              "      <th>3</th>\n",
              "      <td>1.0</td>\n",
              "      <td>9.8638</td>\n",
              "      <td>21:19:47.93</td>\n",
              "      <td>-58:08:56.16</td>\n",
              "      <td>2.459039e+06</td>\n",
              "      <td>4.087299</td>\n",
              "      <td>5.586113</td>\n",
              "      <td>3572.171250</td>\n",
              "      <td>13.623773</td>\n",
              "      <td>2242.360540</td>\n",
              "      <td>1755.076738</td>\n",
              "      <td>316.678</td>\n",
              "      <td>6036.0</td>\n",
              "      <td>3.93359</td>\n",
              "      <td>2.218670</td>\n",
              "      <td>-58.148933</td>\n",
              "      <td>319.949708</td>\n",
              "    </tr>\n",
              "    <tr>\n",
              "      <th>4</th>\n",
              "      <td>1.0</td>\n",
              "      <td>9.4995</td>\n",
              "      <td>22:29:49.88</td>\n",
              "      <td>-48:00:11.16</td>\n",
              "      <td>2.459085e+06</td>\n",
              "      <td>2.184667</td>\n",
              "      <td>2.865280</td>\n",
              "      <td>11708.022855</td>\n",
              "      <td>13.702853</td>\n",
              "      <td>1362.138143</td>\n",
              "      <td>1549.440980</td>\n",
              "      <td>137.544</td>\n",
              "      <td>5630.0</td>\n",
              "      <td>4.37759</td>\n",
              "      <td>1.238240</td>\n",
              "      <td>-48.003100</td>\n",
              "      <td>337.457833</td>\n",
              "    </tr>\n",
              "  </tbody>\n",
              "</table>\n",
              "</div>\n",
              "      <button class=\"colab-df-convert\" onclick=\"convertToInteractive('df-1f641f9e-1405-46bd-b618-5a164e01aa0a')\"\n",
              "              title=\"Convert this dataframe to an interactive table.\"\n",
              "              style=\"display:none;\">\n",
              "        \n",
              "  <svg xmlns=\"http://www.w3.org/2000/svg\" height=\"24px\"viewBox=\"0 0 24 24\"\n",
              "       width=\"24px\">\n",
              "    <path d=\"M0 0h24v24H0V0z\" fill=\"none\"/>\n",
              "    <path d=\"M18.56 5.44l.94 2.06.94-2.06 2.06-.94-2.06-.94-.94-2.06-.94 2.06-2.06.94zm-11 1L8.5 8.5l.94-2.06 2.06-.94-2.06-.94L8.5 2.5l-.94 2.06-2.06.94zm10 10l.94 2.06.94-2.06 2.06-.94-2.06-.94-.94-2.06-.94 2.06-2.06.94z\"/><path d=\"M17.41 7.96l-1.37-1.37c-.4-.4-.92-.59-1.43-.59-.52 0-1.04.2-1.43.59L10.3 9.45l-7.72 7.72c-.78.78-.78 2.05 0 2.83L4 21.41c.39.39.9.59 1.41.59.51 0 1.02-.2 1.41-.59l7.78-7.78 2.81-2.81c.8-.78.8-2.07 0-2.86zM5.41 20L4 18.59l7.72-7.72 1.47 1.35L5.41 20z\"/>\n",
              "  </svg>\n",
              "      </button>\n",
              "      \n",
              "  <style>\n",
              "    .colab-df-container {\n",
              "      display:flex;\n",
              "      flex-wrap:wrap;\n",
              "      gap: 12px;\n",
              "    }\n",
              "\n",
              "    .colab-df-convert {\n",
              "      background-color: #E8F0FE;\n",
              "      border: none;\n",
              "      border-radius: 50%;\n",
              "      cursor: pointer;\n",
              "      display: none;\n",
              "      fill: #1967D2;\n",
              "      height: 32px;\n",
              "      padding: 0 0 0 0;\n",
              "      width: 32px;\n",
              "    }\n",
              "\n",
              "    .colab-df-convert:hover {\n",
              "      background-color: #E2EBFA;\n",
              "      box-shadow: 0px 1px 2px rgba(60, 64, 67, 0.3), 0px 1px 3px 1px rgba(60, 64, 67, 0.15);\n",
              "      fill: #174EA6;\n",
              "    }\n",
              "\n",
              "    [theme=dark] .colab-df-convert {\n",
              "      background-color: #3B4455;\n",
              "      fill: #D2E3FC;\n",
              "    }\n",
              "\n",
              "    [theme=dark] .colab-df-convert:hover {\n",
              "      background-color: #434B5C;\n",
              "      box-shadow: 0px 1px 3px 1px rgba(0, 0, 0, 0.15);\n",
              "      filter: drop-shadow(0px 1px 2px rgba(0, 0, 0, 0.3));\n",
              "      fill: #FFFFFF;\n",
              "    }\n",
              "  </style>\n",
              "\n",
              "      <script>\n",
              "        const buttonEl =\n",
              "          document.querySelector('#df-1f641f9e-1405-46bd-b618-5a164e01aa0a button.colab-df-convert');\n",
              "        buttonEl.style.display =\n",
              "          google.colab.kernel.accessAllowed ? 'block' : 'none';\n",
              "\n",
              "        async function convertToInteractive(key) {\n",
              "          const element = document.querySelector('#df-1f641f9e-1405-46bd-b618-5a164e01aa0a');\n",
              "          const dataTable =\n",
              "            await google.colab.kernel.invokeFunction('convertToInteractive',\n",
              "                                                     [key], {});\n",
              "          if (!dataTable) return;\n",
              "\n",
              "          const docLinkHtml = 'Like what you see? Visit the ' +\n",
              "            '<a target=\"_blank\" href=https://colab.research.google.com/notebooks/data_table.ipynb>data table notebook</a>'\n",
              "            + ' to learn more about interactive tables.';\n",
              "          element.innerHTML = '';\n",
              "          dataTable['output_type'] = 'display_data';\n",
              "          await google.colab.output.renderOutput(dataTable, element);\n",
              "          const docLink = document.createElement('div');\n",
              "          docLink.innerHTML = docLinkHtml;\n",
              "          element.appendChild(docLink);\n",
              "        }\n",
              "      </script>\n",
              "    </div>\n",
              "  </div>\n",
              "  "
            ]
          },
          "metadata": {},
          "execution_count": 12
        }
      ]
    },
    {
      "cell_type": "code",
      "source": [
        "TessOI_TnF_df.to_csv('/out.csv')"
      ],
      "metadata": {
        "id": "ZeePDidWejuW"
      },
      "execution_count": 63,
      "outputs": []
    },
    {
      "cell_type": "code",
      "source": [
        "# Remove position columns\n",
        "\n",
        "TessOI_TnF_df = TessOI_TnF_df.drop(['RA', 'Dec'],1)"
      ],
      "metadata": {
        "colab": {
          "base_uri": "https://localhost:8080/"
        },
        "id": "pCfFacbQIG--",
        "outputId": "909f0595-8019-4a2e-dfe4-59cf62bfbb1e"
      },
      "execution_count": 15,
      "outputs": [
        {
          "output_type": "stream",
          "name": "stderr",
          "text": [
            "<ipython-input-15-9f28f00faac6>:3: FutureWarning: In a future version of pandas all arguments of DataFrame.drop except for the argument 'labels' will be keyword-only.\n",
            "  TessOI_TnF_df = TessOI_TnF_df.drop(['RA', 'Dec'],1)\n"
          ]
        }
      ]
    },
    {
      "cell_type": "code",
      "execution_count": 16,
      "metadata": {
        "id": "wrmXb2BqjTaF",
        "colab": {
          "base_uri": "https://localhost:8080/"
        },
        "outputId": "e7d025e4-ecac-483a-c6ee-4dd4db36e91f"
      },
      "outputs": [
        {
          "output_type": "stream",
          "name": "stderr",
          "text": [
            "<ipython-input-16-815fe960bea2>:3: FutureWarning: In a future version of pandas all arguments of DataFrame.drop except for the argument 'labels' will be keyword-only.\n",
            "  X = TessOI_TnF_df.drop([\"TFOPWG Disposition\"],1).values\n"
          ]
        }
      ],
      "source": [
        "# Split our preprocessed data into our features and target arrays\n",
        "y = TessOI_TnF_df[\"TFOPWG Disposition\"].values\n",
        "X = TessOI_TnF_df.drop([\"TFOPWG Disposition\"],1).values\n",
        "# Split the preprocessed data into a training and testing dataset\n",
        "X_train,X_test,y_train,y_test = train_test_split(X,y,random_state=1)\n"
      ]
    },
    {
      "cell_type": "code",
      "execution_count": 17,
      "metadata": {
        "id": "Zrn78dpgjTaG"
      },
      "outputs": [],
      "source": [
        "# Create a StandardScaler instances\n",
        "scaler = StandardScaler()\n",
        "\n",
        "# Fit the StandardScaler\n",
        "X_scaler = scaler.fit(X_train)\n",
        "\n",
        "# Scale the data\n",
        "X_train_scaled = X_scaler.transform(X_train)\n",
        "X_test_scaled = X_scaler.transform(X_test)\n"
      ]
    },
    {
      "cell_type": "code",
      "source": [
        "TessOI_TnF_df.drop([\"TFOPWG Disposition\"],1).columns\n"
      ],
      "metadata": {
        "colab": {
          "base_uri": "https://localhost:8080/"
        },
        "id": "j-0WNdGpdstN",
        "outputId": "fb62cb9b-bace-4013-ed6c-9dfbf1a17a42"
      },
      "execution_count": 21,
      "outputs": [
        {
          "output_type": "stream",
          "name": "stderr",
          "text": [
            "<ipython-input-21-674cf87476f2>:1: FutureWarning: In a future version of pandas all arguments of DataFrame.drop except for the argument 'labels' will be keyword-only.\n",
            "  TessOI_TnF_df.drop([\"TFOPWG Disposition\"],1).columns\n"
          ]
        },
        {
          "output_type": "execute_result",
          "data": {
            "text/plain": [
              "Index(['TESS Mag', 'Epoch (BJD)', 'Period (days)', 'Duration (hours)',\n",
              "       'Depth (ppm)', 'Planet Radius (R_Earth)',\n",
              "       'Planet Insolation (Earth Flux)', 'Planet Equil Temp (K)',\n",
              "       'Stellar Distance (pc)', 'Stellar Eff Temp (K)',\n",
              "       'Stellar log(g) (cm/s^2)', 'Stellar Radius (R_Sun)', 'lat', 'lon'],\n",
              "      dtype='object')"
            ]
          },
          "metadata": {},
          "execution_count": 21
        }
      ]
    },
    {
      "cell_type": "markdown",
      "metadata": {
        "id": "VO9ed515jTaH"
      },
      "source": [
        "## Compile, Train and Evaluate the Model"
      ]
    },
    {
      "cell_type": "code",
      "execution_count": 18,
      "metadata": {
        "id": "7pB4bv4zjTaI",
        "outputId": "d7a474b2-2228-4a1f-f561-195fd11d4da5",
        "colab": {
          "base_uri": "https://localhost:8080/"
        }
      },
      "outputs": [
        {
          "output_type": "stream",
          "name": "stdout",
          "text": [
            "Model: \"sequential\"\n",
            "_________________________________________________________________\n",
            " Layer (type)                Output Shape              Param #   \n",
            "=================================================================\n",
            " dense (Dense)               (None, 10)                130       \n",
            "                                                                 \n",
            " dense_1 (Dense)             (None, 10)                110       \n",
            "                                                                 \n",
            " dense_2 (Dense)             (None, 1)                 11        \n",
            "                                                                 \n",
            "=================================================================\n",
            "Total params: 251\n",
            "Trainable params: 251\n",
            "Non-trainable params: 0\n",
            "_________________________________________________________________\n"
          ]
        }
      ],
      "source": [
        "# Define the model - deep neural net, i.e., the number of input features and hidden nodes for each layer.\n",
        "number_input_features = len(X_train[0])\n",
        "hidden_nodes_layer1 = 10\n",
        "hidden_nodes_layer2 = 10\n",
        "\n",
        "\n",
        "nn = tf.keras.models.Sequential()\n",
        "\n",
        "# First hidden layer\n",
        "nn.add(tf.keras.layers.Dense(units = hidden_nodes_layer1, input_dim = number_input_features, activation = \"relu\"))\n",
        " \n",
        "# Second hidden layer\n",
        "nn.add(tf.keras.layers.Dense(units = hidden_nodes_layer2, activation = \"relu\"))\n",
        "\n",
        "# Output layer\n",
        "nn.add(tf.keras.layers.Dense(units = 1, activation = \"sigmoid\"))\n",
        "\n",
        "# Check the structure of the model\n",
        "nn.summary()\n"
      ]
    },
    {
      "cell_type": "code",
      "execution_count": 19,
      "metadata": {
        "id": "6sI5d_lajTaI"
      },
      "outputs": [],
      "source": [
        "# Compile the model\n",
        "nn.compile(loss = \"binary_crossentropy\", optimizer = \"adam\", metrics =[\"accuracy\"])\n"
      ]
    },
    {
      "cell_type": "code",
      "execution_count": 20,
      "metadata": {
        "id": "5O2Bx40mjTaI",
        "outputId": "4caf95d5-ece6-4199-919b-d867bd9a53b9",
        "colab": {
          "base_uri": "https://localhost:8080/"
        }
      },
      "outputs": [
        {
          "output_type": "stream",
          "name": "stdout",
          "text": [
            "Epoch 1/15\n",
            "38/38 [==============================] - 1s 2ms/step - loss: 0.6487 - accuracy: 0.6439\n",
            "Epoch 2/15\n",
            "38/38 [==============================] - 0s 2ms/step - loss: 0.6039 - accuracy: 0.6938\n",
            "Epoch 3/15\n",
            "38/38 [==============================] - 0s 2ms/step - loss: 0.5694 - accuracy: 0.7230\n",
            "Epoch 4/15\n",
            "38/38 [==============================] - 0s 2ms/step - loss: 0.5430 - accuracy: 0.7288\n",
            "Epoch 5/15\n",
            "38/38 [==============================] - 0s 2ms/step - loss: 0.5221 - accuracy: 0.7413\n",
            "Epoch 6/15\n",
            "38/38 [==============================] - 0s 2ms/step - loss: 0.5060 - accuracy: 0.7429\n",
            "Epoch 7/15\n",
            "38/38 [==============================] - 0s 2ms/step - loss: 0.4933 - accuracy: 0.7537\n",
            "Epoch 8/15\n",
            "38/38 [==============================] - 0s 2ms/step - loss: 0.4824 - accuracy: 0.7612\n",
            "Epoch 9/15\n",
            "38/38 [==============================] - 0s 2ms/step - loss: 0.4731 - accuracy: 0.7604\n",
            "Epoch 10/15\n",
            "38/38 [==============================] - 0s 2ms/step - loss: 0.4647 - accuracy: 0.7654\n",
            "Epoch 11/15\n",
            "38/38 [==============================] - 0s 2ms/step - loss: 0.4565 - accuracy: 0.7762\n",
            "Epoch 12/15\n",
            "38/38 [==============================] - 0s 2ms/step - loss: 0.4480 - accuracy: 0.7820\n",
            "Epoch 13/15\n",
            "38/38 [==============================] - 0s 2ms/step - loss: 0.4406 - accuracy: 0.7870\n",
            "Epoch 14/15\n",
            "38/38 [==============================] - 0s 2ms/step - loss: 0.4338 - accuracy: 0.7995\n",
            "Epoch 15/15\n",
            "38/38 [==============================] - 0s 2ms/step - loss: 0.4277 - accuracy: 0.7962\n"
          ]
        }
      ],
      "source": [
        "# Train the model\n",
        "fit_model = nn.fit(X_train_scaled,y_train,epochs = 15)\n"
      ]
    },
    {
      "cell_type": "code",
      "execution_count": 21,
      "metadata": {
        "id": "S-6wj0exjTaJ",
        "outputId": "21ec1e99-f769-4639-f78a-54c1ec355ed0",
        "colab": {
          "base_uri": "https://localhost:8080/"
        }
      },
      "outputs": [
        {
          "output_type": "stream",
          "name": "stdout",
          "text": [
            "13/13 - 0s - loss: 0.4606 - accuracy: 0.7606 - 181ms/epoch - 14ms/step\n",
            "Loss: 0.46061739325523376, Accuracy: 0.7605984807014465\n"
          ]
        }
      ],
      "source": [
        "# Evaluate the model using the test data\n",
        "model_loss, model_accuracy = nn.evaluate(X_test_scaled,y_test,verbose=2)\n",
        "print(f\"Loss: {model_loss}, Accuracy: {model_accuracy}\")\n"
      ]
    },
    {
      "cell_type": "markdown",
      "source": [
        "**NEURAL NETWORK AUTO OPTIMISATION**"
      ],
      "metadata": {
        "id": "eAO8uAVvCFHQ"
      }
    },
    {
      "cell_type": "code",
      "source": [
        "!pip install keras-tuner"
      ],
      "metadata": {
        "colab": {
          "base_uri": "https://localhost:8080/"
        },
        "id": "V7te4au_zcmB",
        "outputId": "fe63ee43-415f-405e-f10c-6650b29dd4e5"
      },
      "execution_count": 22,
      "outputs": [
        {
          "output_type": "stream",
          "name": "stdout",
          "text": [
            "Looking in indexes: https://pypi.org/simple, https://us-python.pkg.dev/colab-wheels/public/simple/\n",
            "Collecting keras-tuner\n",
            "  Downloading keras_tuner-1.3.5-py3-none-any.whl (176 kB)\n",
            "\u001b[2K     \u001b[90m━━━━━━━━━━━━━━━━━━━━━━━━━━━━━━━━━━━━━━\u001b[0m \u001b[32m176.1/176.1 kB\u001b[0m \u001b[31m12.7 MB/s\u001b[0m eta \u001b[36m0:00:00\u001b[0m\n",
            "\u001b[?25hRequirement already satisfied: packaging in /usr/local/lib/python3.10/dist-packages (from keras-tuner) (23.1)\n",
            "Requirement already satisfied: requests in /usr/local/lib/python3.10/dist-packages (from keras-tuner) (2.27.1)\n",
            "Collecting kt-legacy (from keras-tuner)\n",
            "  Downloading kt_legacy-1.0.5-py3-none-any.whl (9.6 kB)\n",
            "Requirement already satisfied: urllib3<1.27,>=1.21.1 in /usr/local/lib/python3.10/dist-packages (from requests->keras-tuner) (1.26.15)\n",
            "Requirement already satisfied: certifi>=2017.4.17 in /usr/local/lib/python3.10/dist-packages (from requests->keras-tuner) (2022.12.7)\n",
            "Requirement already satisfied: charset-normalizer~=2.0.0 in /usr/local/lib/python3.10/dist-packages (from requests->keras-tuner) (2.0.12)\n",
            "Requirement already satisfied: idna<4,>=2.5 in /usr/local/lib/python3.10/dist-packages (from requests->keras-tuner) (3.4)\n",
            "Installing collected packages: kt-legacy, keras-tuner\n",
            "Successfully installed keras-tuner-1.3.5 kt-legacy-1.0.5\n"
          ]
        }
      ]
    },
    {
      "cell_type": "code",
      "source": [
        "# Create a method that creates a new Sequential model with hyperparameter options\n",
        "def create_model(hp):\n",
        "    opti_model = tf.keras.models.Sequential()\n",
        "\n",
        "    # Allow kerastuner to decide which activation function to use in hidden layers\n",
        "    activation = hp.Choice('activation',['relu','tanh','sigmoid'])\n",
        "    \n",
        "    # Allow kerastuner to decide number of neurons in first layer\n",
        "    opti_model.add(tf.keras.layers.Dense(units=hp.Int('first_units',\n",
        "        min_value=10,\n",
        "        max_value=20,\n",
        "        step=2), activation=activation, input_dim=len(X_train_scaled[0])))\n",
        "\n",
        "    # Allow kerastuner to decide number of hidden layers and neurons in hidden layers\n",
        "    for i in range(hp.Int('num_layers', 1, 6)):\n",
        "        opti_model.add(tf.keras.layers.Dense(units=hp.Int('units_' + str(i),\n",
        "            min_value=4,\n",
        "            max_value=20,\n",
        "            step=1),\n",
        "            activation=activation))\n",
        "    \n",
        "    opti_model.add(tf.keras.layers.Dense(units=1, activation=\"sigmoid\"))\n",
        "\n",
        "    # Compile the model\n",
        "    opti_model.compile(loss=\"binary_crossentropy\", optimizer='adam', metrics=[\"accuracy\"])\n",
        "    \n",
        "    return opti_model"
      ],
      "metadata": {
        "id": "842t5qUbCRa-"
      },
      "execution_count": 23,
      "outputs": []
    },
    {
      "cell_type": "code",
      "source": [
        "# Import the kerastuner library\n",
        "import keras_tuner as kt\n",
        "\n",
        "tuner = kt.Hyperband(\n",
        "    create_model,\n",
        "    objective=\"val_accuracy\",\n",
        "    max_epochs=20,\n",
        "    hyperband_iterations=2)"
      ],
      "metadata": {
        "id": "sfhrtTiXCmxU"
      },
      "execution_count": 24,
      "outputs": []
    },
    {
      "cell_type": "code",
      "source": [
        "# Run the kerastuner search for best hyperparameters\n",
        "tuner.search(X_train_scaled,y_train,epochs=20,validation_data=(X_test_scaled,y_test))"
      ],
      "metadata": {
        "colab": {
          "base_uri": "https://localhost:8080/"
        },
        "id": "VjiRVM7LCqZD",
        "outputId": "6d6230cd-c11c-4a8e-9b57-6caaac4e6943"
      },
      "execution_count": 25,
      "outputs": [
        {
          "output_type": "stream",
          "name": "stdout",
          "text": [
            "Trial 60 Complete [00h 00m 07s]\n",
            "val_accuracy: 0.7356608510017395\n",
            "\n",
            "Best val_accuracy So Far: 0.8329176902770996\n",
            "Total elapsed time: 00h 04m 04s\n"
          ]
        }
      ]
    },
    {
      "cell_type": "code",
      "source": [
        "best_hyper = tuner.get_best_hyperparameters(1)[0]\n",
        "best_hyper.values"
      ],
      "metadata": {
        "colab": {
          "base_uri": "https://localhost:8080/"
        },
        "id": "VZAvJV9K5I9B",
        "outputId": "70050d6e-9715-4582-bc85-4a726a2892c1"
      },
      "execution_count": 26,
      "outputs": [
        {
          "output_type": "execute_result",
          "data": {
            "text/plain": [
              "{'activation': 'relu',\n",
              " 'first_units': 18,\n",
              " 'num_layers': 5,\n",
              " 'units_0': 5,\n",
              " 'units_1': 15,\n",
              " 'units_2': 5,\n",
              " 'units_3': 9,\n",
              " 'units_4': 5,\n",
              " 'units_5': 13,\n",
              " 'tuner/epochs': 20,\n",
              " 'tuner/initial_epoch': 7,\n",
              " 'tuner/bracket': 1,\n",
              " 'tuner/round': 1,\n",
              " 'tuner/trial_id': '0050'}"
            ]
          },
          "metadata": {},
          "execution_count": 26
        }
      ]
    },
    {
      "cell_type": "code",
      "source": [
        "# Evaluate best model against full test data\n",
        "best_model = tuner.get_best_models(1)[0]\n",
        "model_loss, model_accuracy = best_model.evaluate(X_test_scaled,y_test,verbose=2)\n",
        "print(f\"Loss: {model_loss}, Accuracy: {model_accuracy}\")"
      ],
      "metadata": {
        "colab": {
          "base_uri": "https://localhost:8080/"
        },
        "id": "OXUd9Fd85MG0",
        "outputId": "c98aa8f3-3547-4796-deee-ba71d682d507"
      },
      "execution_count": 27,
      "outputs": [
        {
          "output_type": "stream",
          "name": "stdout",
          "text": [
            "13/13 - 1s - loss: 0.4168 - accuracy: 0.8329 - 636ms/epoch - 49ms/step\n",
            "Loss: 0.4168389141559601, Accuracy: 0.8329176902770996\n"
          ]
        }
      ]
    },
    {
      "cell_type": "code",
      "source": [
        "tuner.oracle.get_best_trials()[0].trial_id\n"
      ],
      "metadata": {
        "colab": {
          "base_uri": "https://localhost:8080/",
          "height": 36
        },
        "id": "SAwA-b7eSSRf",
        "outputId": "a8f47824-ffa3-4874-a690-5a5aeaa228bb"
      },
      "execution_count": 28,
      "outputs": [
        {
          "output_type": "execute_result",
          "data": {
            "text/plain": [
              "'0054'"
            ],
            "application/vnd.google.colaboratory.intrinsic+json": {
              "type": "string"
            }
          },
          "metadata": {},
          "execution_count": 28
        }
      ]
    },
    {
      "cell_type": "code",
      "execution_count": 23,
      "metadata": {
        "id": "o5MEjrkcjTaJ"
      },
      "outputs": [],
      "source": [
        "# Export our model to HDF5 file\n",
        "best_model.save('./Exoplanets_detection.h5')"
      ]
    }
  ],
  "metadata": {
    "kernelspec": {
      "display_name": "Python 3 (ipykernel)",
      "language": "python",
      "name": "python3"
    },
    "language_info": {
      "codemirror_mode": {
        "name": "ipython",
        "version": 3
      },
      "file_extension": ".py",
      "mimetype": "text/x-python",
      "name": "python",
      "nbconvert_exporter": "python",
      "pygments_lexer": "ipython3",
      "version": "3.10.4"
    },
    "vscode": {
      "interpreter": {
        "hash": "31f2aee4e71d21fbe5cf8b01ff0e069b9275f58929596ceb00d14d90e3e16cd6"
      }
    },
    "colab": {
      "provenance": []
    }
  },
  "nbformat": 4,
  "nbformat_minor": 0
}